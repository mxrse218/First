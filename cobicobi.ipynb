{
 "cells": [
  {
   "cell_type": "code",
   "execution_count": null,
   "metadata": {},
   "outputs": [],
   "source": [
    "#input\n",
    "\n",
    "tahun_lahir = int(input(\"Masukan tahun lahir anda\"))\n",
    "tahun_sekarang = int(input(\"masukan tahun sekarang\"))\n",
    "umur = tahun_sekarang - tahun_lahir\n",
    "print(\"umur anda adalah\", umur, \"tahun\")"
   ]
  },
  {
   "cell_type": "code",
   "execution_count": null,
   "metadata": {},
   "outputs": [],
   "source": [
    "#f to c\n",
    "fahrenheit = float (input(\"masukan suhu dalam fahrenheit\"))\n",
    "celsius = int(32)\n",
    "convert = (fahreinheit - 32) * 5/9\n",
    "print(\"suhu dalam celsius adalah\", celsius, \"derajat\")"
   ]
  },
  {
   "cell_type": "code",
   "execution_count": null,
   "metadata": {},
   "outputs": [],
   "source": [
    "nama = 'beben'\n",
    "kelas = 'TI24J'\n",
    "print('nama saya {}, kelas saya {}'.format(nama, kelas))"
   ]
  },
  {
   "cell_type": "code",
   "execution_count": null,
   "metadata": {},
   "outputs": [],
   "source": []
  }
 ],
 "metadata": {
  "kernelspec": {
   "display_name": "Python 3",
   "language": "python",
   "name": "python3"
  },
  "language_info": {
   "codemirror_mode": {
    "name": "ipython",
    "version": 3
   },
   "file_extension": ".py",
   "mimetype": "text/x-python",
   "name": "python",
   "nbconvert_exporter": "python",
   "pygments_lexer": "ipython3",
   "version": "3.11.9"
  }
 },
 "nbformat": 4,
 "nbformat_minor": 2
}
