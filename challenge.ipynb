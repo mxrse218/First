{
 "cells": [
  {
   "cell_type": "code",
   "execution_count": 5,
   "metadata": {},
   "outputs": [
    {
     "name": "stdout",
     "output_type": "stream",
     "text": [
      "Jumlah karakter dalam kalimat adalah: 11\n"
     ]
    }
   ],
   "source": [
    "input_string = input(\"Masukkan sebuah kalimat: \")\n",
    "jumlah_karakter = len(input_string)\n",
    "print(f\"Jumlah karakter dalam kalimat adalah: {jumlah_karakter}\")"
   ]
  },
  {
   "cell_type": "code",
   "execution_count": 8,
   "metadata": {},
   "outputs": [
    {
     "name": "stdout",
     "output_type": "stream",
     "text": [
      "Kalimat yang dibalik: rabam yajna\n"
     ]
    }
   ],
   "source": [
    "reversed_string = input_string[::-1]\n",
    "print(f\"Kalimat yang dibalik: {reversed_string}\")"
   ]
  },
  {
   "cell_type": "code",
   "execution_count": null,
   "metadata": {},
   "outputs": [
    {
     "name": "stdout",
     "output_type": "stream",
     "text": [
      "2\n"
     ]
    }
   ],
   "source": [
    "kalimat = 'anjay mabar'\n",
    "word_count = len(kalimat.split())\n",
    "print(word_count)"
   ]
  },
  {
   "cell_type": "code",
   "execution_count": 14,
   "metadata": {},
   "outputs": [
    {
     "name": "stdout",
     "output_type": "stream",
     "text": [
      "1 jam 40 menit\n"
     ]
    }
   ],
   "source": [
    "sks = int(input(\"masukan jumlah sks =\"))\n",
    "print(f\"{sks * 50 // 60} jam {sks * 50 % 60} menit\")"
   ]
  }
 ],
 "metadata": {
  "kernelspec": {
   "display_name": "Python 3",
   "language": "python",
   "name": "python3"
  },
  "language_info": {
   "codemirror_mode": {
    "name": "ipython",
    "version": 3
   },
   "file_extension": ".py",
   "mimetype": "text/x-python",
   "name": "python",
   "nbconvert_exporter": "python",
   "pygments_lexer": "ipython3",
   "version": "3.11.9"
  }
 },
 "nbformat": 4,
 "nbformat_minor": 2
}
