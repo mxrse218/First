{
 "cells": [
  {
   "cell_type": "code",
   "execution_count": 1,
   "metadata": {},
   "outputs": [
    {
     "name": "stdout",
     "output_type": "stream",
     "text": [
      "Selamat! Anda lulus.\n",
      "program selesai\n"
     ]
    }
   ],
   "source": [
    "nilai = int(input(\"Masukkan nilai ujian: \"))\n",
    "\n",
    "if nilai >= 65:\n",
    "    print(\"Selamat! Anda lulus.\")\n",
    "else:\n",
    "    print(\"Maaf, Anda tidak lulus.\")\n",
    "\n",
    "print(\"program selesai\")\n"
   ]
  },
  {
   "cell_type": "code",
   "execution_count": 2,
   "metadata": {},
   "outputs": [
    {
     "name": "stdout",
     "output_type": "stream",
     "text": [
      "Akses Diterima, Selamat Datang\n",
      "__program selesai__\n"
     ]
    }
   ],
   "source": [
    "username = input(\"Masukkan username: \")\n",
    "password = input(\"Masukkan password: \")\n",
    "\n",
    "if username == \"admin\" and password == \"admin\":\n",
    "    print(\"Akses Diterima, Selamat Datang\")\n",
    "else:\n",
    "    print(\"Akses Ditolak, Password atau username salah\")\n",
    "\n",
    "print(\"__program selesai__\")"
   ]
  },
  {
   "cell_type": "code",
   "execution_count": 3,
   "metadata": {},
   "outputs": [
    {
     "name": "stdout",
     "output_type": "stream",
     "text": [
      "nilai C\n"
     ]
    }
   ],
   "source": [
    "nilai = int(input(\"masukan nilai: \"))\n",
    "\n",
    "if nilai >= 101 and nilai <= 100:\n",
    "    print(\"nilai invalid\")\n",
    "\n",
    "if nilai >= 90 and nilai <= 100:\n",
    "    print(\"nilai A\")\n",
    "elif nilai >= 80 and nilai <= 90:\n",
    "    print(\"nilai B\")\n",
    "elif nilai >= 70 and nilai <= 80:\n",
    "    print(\"nilai C\")\n",
    "elif nilai>= 60 and nilai <= 70:\n",
    "    print(\"nilai D\")\n",
    "    print(\"nilai tidak lulus, silahkan melakukan perbaikan\")\n",
    "elif nilai >= 50 and nilai <= 60:\n",
    "    print(\"nilai E\")\n",
    "    print(\"nilai tidak lulus, silahkan melakukan perbaikan\")\n",
    "elif nilai >= 40 and nilai <= 50:\n",
    "    print (\"nilai F\")\n",
    "    print(\"nilai tidak lulus, silahkan melakukan perbaikan\")\n",
    "else: \n",
    "    print(\"nilai tidak valid\")"
   ]
  },
  {
   "cell_type": "code",
   "execution_count": 3,
   "metadata": {},
   "outputs": [],
   "source": [
    "nilai_uts = int(input(\"masukan nilai uts: \"))\n",
    "nilai_uas = int(input(\"masukan nilai uas: \"))\n",
    "\n",
    "if nilai_uas >= 68:\n",
    "    if nilai_uts >= 58:\n",
    "        print(\"lulus\")\n",
    "    else: \n",
    "        print(\"tidak lulus\")"
   ]
  },
  {
   "cell_type": "code",
   "execution_count": 2,
   "metadata": {},
   "outputs": [
    {
     "name": "stdout",
     "output_type": "stream",
     "text": [
      "\n",
      "menu: \n",
      "1. Program genap ganjil\n",
      "2. Program Luas Lingkaran\n",
      "3. keluar\n",
      "Keluar dari program.\n"
     ]
    }
   ],
   "source": [
    "import math\n",
    "\n",
    "while True:\n",
    "    print(\"\\nmenu: \")\n",
    "    print(\"1. Program genap ganjil\")\n",
    "    print(\"2. Program Luas Lingkaran\")\n",
    "    print(\"3. keluar\")\n",
    "\n",
    "    pilihan = input(\"pilih menu(1/2/3): \")\n",
    "    \n",
    "    if pilihan == \"1\":\n",
    "        angka = int(input(\"Masukkan angka: \"))\n",
    "        if angka % 2 == 0:\n",
    "            print(f\"{angka} adalah angka genap\")\n",
    "        else:\n",
    "            print(f\"{angka} adalah angka ganjil\")\n",
    "    \n",
    "    elif pilihan == \"2\":\n",
    "        radius = float(input(\"Masukkan radius lingkaran: \"))\n",
    "        luas = math.pi * radius ** 2\n",
    "        print(f\"Luas lingkaran dengan radius {radius} adalah {luas:.2f}\")\n",
    "    \n",
    "    elif pilihan == \"3\":\n",
    "        print(\"Keluar dari program.\")\n",
    "        break\n",
    "    \n",
    "    else:\n",
    "        print(\"Pilihan tidak valid, coba lagi.\")"
   ]
  }
 ],
 "metadata": {
  "kernelspec": {
   "display_name": "Python 3",
   "language": "python",
   "name": "python3"
  },
  "language_info": {
   "codemirror_mode": {
    "name": "ipython",
    "version": 3
   },
   "file_extension": ".py",
   "mimetype": "text/x-python",
   "name": "python",
   "nbconvert_exporter": "python",
   "pygments_lexer": "ipython3",
   "version": "3.11.9"
  }
 },
 "nbformat": 4,
 "nbformat_minor": 2
}
